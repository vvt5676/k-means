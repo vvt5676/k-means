{
 "cells": [
  {
   "cell_type": "code",
   "execution_count": 46,
   "metadata": {},
   "outputs": [],
   "source": [
    "#function to create clusters randomly\n",
    "from random import seed\n",
    "from random import randrange\n",
    "from csv import reader\n",
    "import math\n",
    "# This function used random approach to init centroids \n",
    "def init_centroids(dataset, k):\n",
    "    centroids = list()\n",
    "    number_col = len(dataset[0])\n",
    "    index = randrange(len(dataset))\n",
    "    centroids.append(list(dataset[index]))\n",
    "    for i in range(k-1):\n",
    "        tot_distance = 0.0\n",
    "        special_row = None\n",
    "        for row in dataset:\n",
    "            distance = 0\n",
    "            for centre in centroid:\n",
    "                dis = 0\n",
    "                for j in range(number_col):\n",
    "                    dis += abs(centre[j] - row[j])**2\n",
    "                distance += math.sqrt(dis)\n",
    "            if tot_distance < distance:\n",
    "                tot_distance = distance\n",
    "                special_row = row\n",
    "        centroids.append( list(special_row))\n",
    "    return centroids\n",
    "#print('vvt')"
   ]
  },
  {
   "cell_type": "code",
   "execution_count": 5,
   "metadata": {},
   "outputs": [
    {
     "name": "stdout",
     "output_type": "stream",
     "text": [
      "[[2.0, '3 '], [4.0, '5']]\n"
     ]
    }
   ],
   "source": [
    "def str_column_to_float(dataset, index):\n",
    "    for row in dataset:\n",
    "        row[index] = float(row[index].strip())\n",
    "    return dataset\n",
    "# dataset = [['2 ', '3 '], ['4', '5']]\n",
    "# print(str_column_to_float(dataset, 0))\n"
   ]
  },
  {
   "cell_type": "code",
   "execution_count": 16,
   "metadata": {},
   "outputs": [
    {
     "name": "stdout",
     "output_type": "stream",
     "text": [
      "data: [1, 2] dist:  1\n",
      "data: [1, 2] dist:  145\n",
      "0\n",
      "data: [3, 4] dist:  13\n",
      "data: [3, 4] dist:  85\n",
      "0\n",
      "data: [9, 8] dist:  113\n",
      "data: [9, 8] dist:  5\n",
      "1\n",
      "data: [10, 13] dist:  225\n",
      "data: [10, 13] dist:  9\n",
      "1\n",
      "[0, 0, 1, 1]\n"
     ]
    }
   ],
   "source": [
    "def assign_centroids(dataset, centroids):\n",
    "    centr = list()\n",
    "    index_list = list()\n",
    "    for row in dataset:\n",
    "        distance = float('inf')\n",
    "        index = 0\n",
    "        for i  in range(len(centroids)):\n",
    "            dist = 0\n",
    "            for j in range(len(dataset[0])):\n",
    "                dist += (row[j] - centroids[i][j])**2\n",
    "            print('data:', row, 'dist: ', dist)\n",
    "            if distance > dist:\n",
    "                index = i\n",
    "                distance = dist\n",
    "        index_list.append(index)\n",
    "        print(index)\n",
    "    return index_list\n",
    "c = [[1, 1], [10, 10]]\n",
    "dataset = [[1, 2], [3, 4], [9, 8], [10, 13]]\n",
    "print(assign_centroids(dataset, c))\n",
    "        "
   ]
  },
  {
   "cell_type": "code",
   "execution_count": 30,
   "metadata": {},
   "outputs": [
    {
     "name": "stdout",
     "output_type": "stream",
     "text": [
      "data: [1, 2] dist:  1\n",
      "data: [1, 2] dist:  145\n",
      "data: [1, 2] dist:  18\n",
      "0\n",
      "data: [3, 4] dist:  13\n",
      "data: [3, 4] dist:  85\n",
      "data: [3, 4] dist:  2\n",
      "2\n",
      "data: [9, 8] dist:  113\n",
      "data: [9, 8] dist:  5\n",
      "data: [9, 8] dist:  34\n",
      "1\n",
      "data: [10, 13] dist:  225\n",
      "data: [10, 13] dist:  9\n",
      "data: [10, 13] dist:  100\n",
      "1\n",
      "[0, 2, 1, 1]\n",
      "[[1.0, 2.0], [9.5, 10.5], [3.0, 4.0]]\n"
     ]
    }
   ],
   "source": [
    "def rearrange(dataset, centroids, index_list):\n",
    "    count_index = [0]* len(centroids)\n",
    "    \n",
    "    new_centroids = []\n",
    "    for i in range(len(centroids)):\n",
    "        tmp = [0]* len(dataset[0])\n",
    "        new_centroids.append(tmp)\n",
    "#     print('centroids: ', new_centroids)\n",
    "    for i in range(len(index_list)):\n",
    "        for j in range(len(dataset[0])):\n",
    "#             print('index:', index_list[i],'dataset[i][j]', dataset[i][j])\n",
    "            new_centroids[index_list[i]][j] += dataset[i][j]\n",
    "#             print(new_centroids)\n",
    "        count_index[index_list[i]] += 1\n",
    "#         print(new_centroids)\n",
    "    for i in range(len(new_centroids)):\n",
    "        for j in range(len(new_centroids[0])):\n",
    "            new_centroids[i][j] /= count_index[i]\n",
    "    return new_centroids\n",
    "    \n",
    "    \n",
    "    \n",
    "    \n",
    "c = [[1, 1], [10, 10], [4, 5]]\n",
    "dataset = [[1, 2], [3, 4], [9, 8], [10, 13]]\n",
    "ctr = assign_centroids(dataset, c)\n",
    "print(ctr)\n",
    "print(rearrange(dataset, c, ctr))"
   ]
  },
  {
   "cell_type": "code",
   "execution_count": 32,
   "metadata": {},
   "outputs": [
    {
     "name": "stdout",
     "output_type": "stream",
     "text": [
      "True\n",
      "False\n"
     ]
    }
   ],
   "source": [
    "def is_equal(list1, list2):\n",
    "    if len(list1) == len(list2):\n",
    "        for i in range(len(list1)):\n",
    "            if not list1[i] == list2[i]:\n",
    "                return False\n",
    "        return True\n",
    "    else:\n",
    "        return False\n",
    "print(is_equal([1, 2,3 ,4], [1, 2, 3,4]))\n",
    "print(is_equal([1, 2,3 ,4], [1, 2, 3,3]))"
   ]
  },
  {
   "cell_type": "code",
   "execution_count": 37,
   "metadata": {},
   "outputs": [],
   "source": [
    "def compare_centroids(prev, current):\n",
    "    for i in range(len(pre)):\n",
    "        if not is_equal(pre[i], current[i]):\n",
    "            return False\n",
    "    return True"
   ]
  },
  {
   "cell_type": "code",
   "execution_count": 36,
   "metadata": {},
   "outputs": [
    {
     "name": "stdout",
     "output_type": "stream",
     "text": [
      "([[1.0, 2.0], [9.5, 10.5], [3.0, 4.0], [1.0, 2.0], [9.5, 10.5], [3.0, 4.0], [1.0, 2.0]], [[9.5, 10.5], [3.0, 4.0]])\n"
     ]
    }
   ],
   "source": [
    "def train_test_split(dataset, train_test_split):\n",
    "    train = list()\n",
    "    test = list()\n",
    "    index = int (len(dataset) * train_test_split)\n",
    "    train = dataset[:index]\n",
    "    test = dataset[index : ]\n",
    "    return train, test\n",
    "dataset = [[1.0, 2.0], [9.5, 10.5], [3.0, 4.0], [1.0, 2.0], [9.5, 10.5], [3.0, 4.0], [1.0, 2.0], [9.5, 10.5], [3.0, 4.0]]\n",
    "split = 0.8\n",
    "print(train_test_split(dataset, split))"
   ]
  },
  {
   "cell_type": "code",
   "execution_count": 38,
   "metadata": {},
   "outputs": [],
   "source": [
    "def k_means(train_data, number_clusters = 5, train_test_split = 0.8):\n",
    "    \n",
    "    pre = []\n",
    "    current = init_centroids(dataset, number_clusters)\n",
    "    counter = 0\n",
    "    while not comapre_centroids(pre, current):\n",
    "        counter += 1\n",
    "        pre = current\n",
    "        index_list = assign_centroids(train_data, current)\n",
    "        current = rearrange(train_data, centriods, inde_list)\n",
    "        print('iteration no:', counter)\n",
    "    return current"
   ]
  },
  {
   "cell_type": "code",
   "execution_count": 41,
   "metadata": {},
   "outputs": [
    {
     "name": "stdout",
     "output_type": "stream",
     "text": [
      "(2, 1)\n"
     ]
    }
   ],
   "source": [
    "def get_centroid(row, centroids):\n",
    "    index = None\n",
    "    distance = float('inf')\n",
    "    for i in range(len(centroids)):\n",
    "        dist = 0\n",
    "        for j in range(len(row)):\n",
    "            dist += (row[j] - centroids[i][j])**2\n",
    "        if dist<distance:\n",
    "            distance = dist\n",
    "            index = i\n",
    "    return index, distance\n",
    "c = [[1, 1], [10, 10], [4, 5]]\n",
    "row = [5, 5]\n",
    "print(get_centroid(row, c))"
   ]
  },
  {
   "cell_type": "code",
   "execution_count": 44,
   "metadata": {},
   "outputs": [],
   "source": [
    "def predict(test, centroids ):\n",
    "    index_list = list()\n",
    "    for i in range(len(test)):\n",
    "        index_list.append(get_centroids(row, centroids))\n",
    "    return index_list\n"
   ]
  },
  {
   "cell_type": "code",
   "execution_count": 43,
   "metadata": {},
   "outputs": [],
   "source": [
    "def load_csv(file_name):\n",
    "    file = open(file_name, 'rt')\n",
    "    lines = reader(file)\n",
    "    dataset = list(lines)\n",
    "    return dataset"
   ]
  },
  {
   "cell_type": "code",
   "execution_count": null,
   "metadata": {},
   "outputs": [],
   "source": [
    "def clean_data(dataset):\n",
    "    for i in range(len(dataset[0]):\n",
    "        dataset = str_column_to_float(dataset, i)\n",
    "                   \n",
    "    return dataset"
   ]
  },
  {
   "cell_type": "code",
   "execution_count": 50,
   "metadata": {},
   "outputs": [
    {
     "ename": "FileNotFoundError",
     "evalue": "[Errno 2] No such file or directory: 'dataset.csv'",
     "output_type": "error",
     "traceback": [
      "\u001b[0;31m---------------------------------------------------------------------------\u001b[0m",
      "\u001b[0;31mFileNotFoundError\u001b[0m                         Traceback (most recent call last)",
      "\u001b[0;32m<ipython-input-50-fb69c21b2ad7>\u001b[0m in \u001b[0;36m<module>\u001b[0;34m()\u001b[0m\n\u001b[1;32m      1\u001b[0m \u001b[0mseed\u001b[0m\u001b[0;34m(\u001b[0m\u001b[0;36m1\u001b[0m\u001b[0;34m)\u001b[0m\u001b[0;34m\u001b[0m\u001b[0m\n\u001b[1;32m      2\u001b[0m \u001b[0mfile_name\u001b[0m \u001b[0;34m=\u001b[0m \u001b[0;34m'dataset.csv'\u001b[0m\u001b[0;34m\u001b[0m\u001b[0m\n\u001b[0;32m----> 3\u001b[0;31m \u001b[0mdataset\u001b[0m \u001b[0;34m=\u001b[0m \u001b[0mload_csv\u001b[0m\u001b[0;34m(\u001b[0m\u001b[0mfile_name\u001b[0m\u001b[0;34m)\u001b[0m\u001b[0;34m\u001b[0m\u001b[0m\n\u001b[0m\u001b[1;32m      4\u001b[0m \u001b[0mdataset\u001b[0m \u001b[0;34m=\u001b[0m \u001b[0mclean_data\u001b[0m\u001b[0;34m(\u001b[0m\u001b[0mdataset\u001b[0m\u001b[0;34m)\u001b[0m\u001b[0;34m\u001b[0m\u001b[0m\n\u001b[1;32m      5\u001b[0m \u001b[0mtrain\u001b[0m\u001b[0;34m,\u001b[0m \u001b[0mtest\u001b[0m \u001b[0;34m=\u001b[0m \u001b[0mtrain_test_split\u001b[0m\u001b[0;34m(\u001b[0m\u001b[0mdataset\u001b[0m\u001b[0;34m)\u001b[0m\u001b[0;34m\u001b[0m\u001b[0m\n",
      "\u001b[0;32m<ipython-input-43-44d8a0f82f67>\u001b[0m in \u001b[0;36mload_csv\u001b[0;34m(file_name)\u001b[0m\n\u001b[1;32m      1\u001b[0m \u001b[0;32mdef\u001b[0m \u001b[0mload_csv\u001b[0m\u001b[0;34m(\u001b[0m\u001b[0mfile_name\u001b[0m\u001b[0;34m)\u001b[0m\u001b[0;34m:\u001b[0m\u001b[0;34m\u001b[0m\u001b[0m\n\u001b[0;32m----> 2\u001b[0;31m     \u001b[0mfile\u001b[0m \u001b[0;34m=\u001b[0m \u001b[0mopen\u001b[0m\u001b[0;34m(\u001b[0m\u001b[0mfile_name\u001b[0m\u001b[0;34m,\u001b[0m \u001b[0;34m'rt'\u001b[0m\u001b[0;34m)\u001b[0m\u001b[0;34m\u001b[0m\u001b[0m\n\u001b[0m\u001b[1;32m      3\u001b[0m     \u001b[0mlines\u001b[0m \u001b[0;34m=\u001b[0m \u001b[0mreader\u001b[0m\u001b[0;34m(\u001b[0m\u001b[0mfile\u001b[0m\u001b[0;34m)\u001b[0m\u001b[0;34m\u001b[0m\u001b[0m\n\u001b[1;32m      4\u001b[0m     \u001b[0mdataset\u001b[0m \u001b[0;34m=\u001b[0m \u001b[0mlist\u001b[0m\u001b[0;34m(\u001b[0m\u001b[0mlines\u001b[0m\u001b[0;34m)\u001b[0m\u001b[0;34m\u001b[0m\u001b[0m\n\u001b[1;32m      5\u001b[0m     \u001b[0;32mreturn\u001b[0m \u001b[0mdataset\u001b[0m\u001b[0;34m\u001b[0m\u001b[0m\n",
      "\u001b[0;31mFileNotFoundError\u001b[0m: [Errno 2] No such file or directory: 'dataset.csv'"
     ]
    }
   ],
   "source": [
    "seed(1)\n",
    "file_name = 'dataset.csv'\n",
    "dataset = load_csv(file_name)\n",
    "dataset = clean_data(dataset)\n",
    "train, test = train_test_split(dataset)\n",
    "centroids = k_means(train, 4, 0.9)\n",
    "predictions = predict(test, centroids)\n",
    "print(predictions)"
   ]
  }
 ],
 "metadata": {
  "kernelspec": {
   "display_name": "Python 3",
   "language": "python",
   "name": "python3"
  },
  "language_info": {
   "codemirror_mode": {
    "name": "ipython",
    "version": 3
   },
   "file_extension": ".py",
   "mimetype": "text/x-python",
   "name": "python",
   "nbconvert_exporter": "python",
   "pygments_lexer": "ipython3",
   "version": "3.6.5"
  }
 },
 "nbformat": 4,
 "nbformat_minor": 2
}
