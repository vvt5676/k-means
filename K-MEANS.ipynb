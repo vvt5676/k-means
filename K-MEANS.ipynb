{
 "cells": [
  {
   "cell_type": "code",
   "execution_count": 1,
   "metadata": {},
   "outputs": [],
   "source": [
    "#function to create clusters randomly\n",
    "from random import seed\n",
    "from random import randrange\n",
    "from csv import reader\n",
    "import math\n",
    "# This function used random approach to init centroids \n",
    "def init_centroids(dataset, k):\n",
    "    centroids = list()\n",
    "    number_col = len(dataset[0])\n",
    "#     print(\"No of col:\", number_col)\n",
    "    index = randrange(len(dataset))\n",
    "    centroids.append(list(dataset[index]))\n",
    "    for i in range(k-1):\n",
    "        tot_distance = 0.0\n",
    "        special_row = None\n",
    "        for row in dataset:\n",
    "            distance = 0\n",
    "            for centre in centroids:\n",
    "                dis = 0\n",
    "                for j in range(number_col):\n",
    "                    dis += abs(centre[j] - row[j])**2\n",
    "                distance += math.sqrt(dis)\n",
    "            if tot_distance < distance:\n",
    "                tot_distance = distance\n",
    "                special_row = row\n",
    "        centroids.append( list(special_row))\n",
    "    return centroids\n",
    "#print('vvt')"
   ]
  },
  {
   "cell_type": "code",
   "execution_count": 2,
   "metadata": {},
   "outputs": [],
   "source": [
    "def str_column_to_float(dataset, index):\n",
    "    for row in dataset:\n",
    "        row[index] = float(row[index].strip())\n",
    "    return dataset\n",
    "# dataset = [['2 ', '3 '], ['4', '5']]\n",
    "# print(str_column_to_float(dataset, 0))\n"
   ]
  },
  {
   "cell_type": "code",
   "execution_count": 3,
   "metadata": {},
   "outputs": [
    {
     "name": "stdout",
     "output_type": "stream",
     "text": [
      "[0, 0, 1, 1]\n"
     ]
    }
   ],
   "source": [
    "def assign_centroids(dataset, centroids):\n",
    "    centr = list()\n",
    "    index_list = list()\n",
    "    for row in dataset:\n",
    "        distance = float('inf')\n",
    "        index = 0\n",
    "        for i  in range(len(centroids)):\n",
    "            dist = 0\n",
    "            for j in range(len(dataset[0])):\n",
    "                dist += (row[j] - centroids[i][j])**2\n",
    "#             print('data:', row, 'dist: ', dist)\n",
    "            if distance > dist:\n",
    "                index = i\n",
    "                distance = dist\n",
    "        index_list.append(index)\n",
    "#         print(index)\n",
    "    return index_list\n",
    "c = [[1, 1], [10, 10]]\n",
    "dataset = [[1, 2], [3, 4], [9, 8], [10, 13]]\n",
    "print(assign_centroids(dataset, c))\n",
    "        "
   ]
  },
  {
   "cell_type": "code",
   "execution_count": 79,
   "metadata": {},
   "outputs": [],
   "source": [
    "def rearrange_medeoids(dataset, centroids, index_list):\n",
    "    count_index = [0]* len(centroids)\n",
    "    \n",
    "    new_centroids = adjust_centroids(dataset, centroids, index_list)\n",
    "    index = [0]*len(centroids)\n",
    "    dist = [float('inf')]*len(centroids)\n",
    "    for i in range(len(dataset)):\n",
    "        for j in range(len(centroids)):\n",
    "            tmp_dist = get_distance(dataset[i], centroids[j])\n",
    "            if tmp_dist < dist[j]:\n",
    "                dist[j] = tmp_dist\n",
    "                index[j] = i\n",
    "    \n",
    "    for i in range(len(centroids)):\n",
    "        new_centroids[i] = list(dataset[index[i]])\n",
    "    print(new_centroids)\n",
    "    return new_centroids\n",
    "    "
   ]
  },
  {
   "cell_type": "code",
   "execution_count": 67,
   "metadata": {},
   "outputs": [
    {
     "name": "stdout",
     "output_type": "stream",
     "text": [
      "[0, 2, 1, 1]\n",
      "in rearrange: [[1.0, 2.0], [9.5, 10.5], [3.0, 4.0]]\n",
      "[[1.0, 2.0], [9.5, 10.5], [3.0, 4.0]]\n"
     ]
    }
   ],
   "source": [
    "def adjust_centroids(dataset, centroids, index_list):\n",
    "#     print(\"in rearrange\")\n",
    "    count_index = [0]* len(centroids)\n",
    "    \n",
    "    new_centroids = []\n",
    "    for i in range(len(centroids)):\n",
    "        tmp = [0]* len(dataset[0])\n",
    "        new_centroids.append(tmp)\n",
    "#     print('centroids: ', new_centroids)\n",
    "    for i in range(len(index_list)):\n",
    "        for j in range(len(dataset[0])):\n",
    "#             print('index:', index_list[i],'dataset[i][j]', dataset[i][j])\n",
    "            new_centroids[index_list[i]][j] += dataset[i][j]\n",
    "#             print(new_centroids)\n",
    "        count_index[index_list[i]] += 1\n",
    "#     print(\"before:\", new_centroids)\n",
    "    for i in range(len(new_centroids)):\n",
    "        for j in range(len(new_centroids[0])):\n",
    "            new_centroids[i][j] /= count_index[i]\n",
    "#     print(\"in rearrange:\", new_centroids)\n",
    "    return new_centroids\n",
    "    \n",
    "    \n",
    "    \n",
    "    \n",
    "c = [[1, 1], [10, 10], [4, 5]]\n",
    "dataset = [[1, 2], [3, 4], [9, 8], [10, 13]]\n",
    "ctr = assign_centroids(dataset, c)\n",
    "print(ctr)\n",
    "print(rearrange(dataset, c, ctr))"
   ]
  },
  {
   "cell_type": "code",
   "execution_count": 6,
   "metadata": {},
   "outputs": [
    {
     "name": "stdout",
     "output_type": "stream",
     "text": [
      "True\n",
      "False\n"
     ]
    }
   ],
   "source": [
    "def is_equal(list1, list2):\n",
    "    if len(list1) == len(list2):\n",
    "        for i in range(len(list1)):\n",
    "            if not list1[i] == list2[i]:\n",
    "                return False\n",
    "        return True\n",
    "    else:\n",
    "        return False\n",
    "print(is_equal([1, 2,3 ,4], [1, 2, 3,4]))\n",
    "print(is_equal([1, 2,3 ,4], [1, 2, 3,3]))"
   ]
  },
  {
   "cell_type": "code",
   "execution_count": 63,
   "metadata": {},
   "outputs": [],
   "source": [
    "def compare_centroids(prev, current):\n",
    "    if prev == current:\n",
    "        return True\n",
    "    return False\n",
    "    "
   ]
  },
  {
   "cell_type": "code",
   "execution_count": 44,
   "metadata": {},
   "outputs": [
    {
     "name": "stdout",
     "output_type": "stream",
     "text": [
      "([[1.0, 2.0], [9.5, 10.5], [3.0, 4.0], [1.0, 2.0], [9.5, 10.5], [3.0, 4.0], [1.0, 2.0]], [[9.5, 10.5], [3.0, 4.0]])\n"
     ]
    }
   ],
   "source": [
    "def train_test_split(dataset, train_test_split):\n",
    "    train = list()\n",
    "    test = list()\n",
    "    index = int (len(dataset) * train_test_split)\n",
    "    train = dataset[:index]\n",
    "    test = dataset[index : ]\n",
    "    return train, test\n",
    "dataset = [[1.0, 2.0], [9.5, 10.5], [3.0, 4.0], [1.0, 2.0], [9.5, 10.5], [3.0, 4.0], [1.0, 2.0], [9.5, 10.5], [3.0, 4.0]]\n",
    "split = 0.8\n",
    "print(train_test_split(dataset, split))"
   ]
  },
  {
   "cell_type": "code",
   "execution_count": 83,
   "metadata": {},
   "outputs": [],
   "source": [
    "def k_means(data, number_clusters = 5):\n",
    "    \n",
    "    pre = []\n",
    "    print(\"in k_means\")\n",
    "#     print(\"col: \", len(data[0]))\n",
    "    current = init_centroids(data, number_clusters)\n",
    "#     print(\"Current :\", current)\n",
    "    counter = 0\n",
    "#     print(\"current: \", current, \"\\n pre:\", pre)\n",
    "#     print('iteration no:', counter)\n",
    "    while not compare_centroids(pre, current):\n",
    "        counter += 1\n",
    "        pre = current\n",
    "        index_list = assign_centroids(data, current)\n",
    "        current = adjust_centroids(data, pre, index_list)\n",
    "#         print('iteration no:', counter)\n",
    "#         print(\"pre:\", pre , \"curr: \", current)\n",
    "    return current"
   ]
  },
  {
   "cell_type": "code",
   "execution_count": 46,
   "metadata": {},
   "outputs": [
    {
     "name": "stdout",
     "output_type": "stream",
     "text": [
      "(2, 1)\n"
     ]
    }
   ],
   "source": [
    "def get_centroid(row, centroids):\n",
    "    index = None\n",
    "    distance = float('inf')\n",
    "    for i in range(len(centroids)):\n",
    "        dist = 0\n",
    "        for j in range(len(row)):\n",
    "            dist += (row[j] - centroids[i][j])**2\n",
    "        if dist<distance:\n",
    "            distance = dist\n",
    "            index = i\n",
    "    return index, distance\n",
    "c = [[1, 1], [10, 10], [4, 5]]\n",
    "row = [5, 5]\n",
    "print(get_centroid(row, c))"
   ]
  },
  {
   "cell_type": "code",
   "execution_count": 47,
   "metadata": {},
   "outputs": [],
   "source": [
    "def predict(data, centroids ):\n",
    "    \n",
    "    return assign_centroids(data, centroids)\n",
    "    \n"
   ]
  },
  {
   "cell_type": "code",
   "execution_count": 48,
   "metadata": {},
   "outputs": [],
   "source": [
    "def load_csv(file_name):\n",
    "    file = open(file_name, 'rt')\n",
    "    lines = reader(file)\n",
    "    dataset = list(lines)\n",
    "    return dataset"
   ]
  },
  {
   "cell_type": "code",
   "execution_count": 49,
   "metadata": {},
   "outputs": [],
   "source": [
    "def clean_data(dataset):\n",
    "    for i in range(len(dataset[0])):\n",
    "        dataset = str_column_to_float(dataset, i)\n",
    "                   \n",
    "    return dataset"
   ]
  },
  {
   "cell_type": "code",
   "execution_count": 50,
   "metadata": {},
   "outputs": [],
   "source": [
    "def get_labels(data, labels, centroids):\n",
    "    count = []\n",
    "    for i in range(len(centroids)):\n",
    "        tmp = [0]*len(centroids)\n",
    "        count.append(tmp)\n",
    "#     print(count)\n",
    "    for i in range(len(data)):\n",
    "        min_idx = 0\n",
    "        min_dist = float('inf')\n",
    "        for j in range(len(centroids)):\n",
    "            curr_dist = get_distance(data[i], centroids[j])\n",
    "#             print(\"curr:\", curr_dist)\n",
    "            if min_dist > curr_dist :\n",
    "                min_dist = curr_dist\n",
    "                min_idx = j\n",
    "        count[min_idx][labels[i]]+=1\n",
    "#     print(count)\n",
    "    new_labels = []\n",
    "    for i in range(len(centroids)):\n",
    "        new_labels.append(count[i].index(max(count[i])))\n",
    "#     print(new_labels)\n",
    "    return new_labels\n",
    "    \n",
    "    "
   ]
  },
  {
   "cell_type": "code",
   "execution_count": 51,
   "metadata": {},
   "outputs": [],
   "source": [
    "def rename_classes(labels, predictions):\n",
    "#     print(labels)\n",
    "    for i in range(len(predictions)):\n",
    "        predictions[i] = labels[predictions[i]]\n",
    "    return predictions"
   ]
  },
  {
   "cell_type": "code",
   "execution_count": 52,
   "metadata": {},
   "outputs": [],
   "source": [
    "def get_accuracy(list1, list2):\n",
    "    count = 0;\n",
    "    for i in range(len(list1)):\n",
    "        if list1[i] == list2[i]:\n",
    "            count+=1\n",
    "    return count/len(list1)"
   ]
  },
  {
   "cell_type": "code",
   "execution_count": 53,
   "metadata": {},
   "outputs": [],
   "source": [
    "def get_distance(node_one, node_two):\n",
    "    dist = 0\n",
    "    for i in range(len(node_two)):\n",
    "        dist+=(node_one[i] - node_two[i])**2\n",
    "#     print(dist)\n",
    "    return dist"
   ]
  },
  {
   "cell_type": "code",
   "execution_count": 84,
   "metadata": {},
   "outputs": [
    {
     "name": "stdout",
     "output_type": "stream",
     "text": [
      "in k_means\n",
      "[5.88360655737705, 2.740983606557377, 4.388524590163935, 1.4344262295081966]\n",
      "[6.853846153846153, 3.0769230769230766, 5.715384615384615, 2.053846153846153]\n",
      "[5.005999999999999, 3.4180000000000006, 1.464, 0.2439999999999999]\n",
      "[0, 0, 0, 0, 0, 0, 0, 0, 0, 0, 0, 0, 0, 0, 0, 0, 0, 0, 0, 0, 0, 0, 0, 0, 0, 0, 0, 0, 0, 0, 0, 0, 0, 0, 0, 0, 0, 0, 0, 0, 0, 0, 0, 0, 0, 0, 0, 0, 0, 0, 2, 1, 2, 1, 1, 1, 1, 1, 1, 1, 1, 1, 1, 1, 1, 1, 1, 1, 1, 1, 1, 1, 1, 1, 1, 1, 1, 2, 1, 1, 1, 1, 1, 1, 1, 1, 1, 1, 1, 1, 1, 1, 1, 1, 1, 1, 1, 1, 1, 1, 2, 1, 2, 2, 2, 2, 1, 2, 2, 2, 2, 2, 2, 1, 1, 2, 2, 2, 2, 1, 2, 1, 2, 1, 2, 2, 1, 1, 2, 2, 2, 2, 2, 1, 2, 2, 2, 2, 1, 2, 2, 2, 1, 2, 2, 2, 1, 2, 2, 1]\n",
      "accuracy: 0.8866666666666667\n"
     ]
    }
   ],
   "source": [
    "seed(1)\n",
    "from sklearn import datasets\n",
    "import numpy as np\n",
    "data = datasets.load_iris()['data']\n",
    "# print(data.shape)\n",
    "labels = datasets.load_iris()['target']\n",
    "# labels = np.reshape(labels,(-1, 1))\n",
    "# data = np.concatenate((data, labels), axis = 1)\n",
    "# print(list(labels))\n",
    "\n",
    "# file_name = 'dataset.csv'\n",
    "# dataset = load_csv(file_name)\n",
    "# dataset = clean_data(dataset)\n",
    "centroids = k_means(data, 3)\n",
    "# print(centroids)\n",
    "for ctr in centroids:\n",
    "    print(ctr)\n",
    "predictions = predict(data, centroids)\n",
    "# print( predictions)\n",
    "new_labels = get_labels(data, labels, centroids)\n",
    "# print(new_labels)\n",
    "predictions = rename_classes(new_labels, predictions)\n",
    "print(predictions)\n",
    "acc_val = get_accuracy(predictions, labels)\n",
    "print(\"accuracy:\", acc_val)"
   ]
  },
  {
   "cell_type": "code",
   "execution_count": null,
   "metadata": {},
   "outputs": [],
   "source": []
  }
 ],
 "metadata": {
  "kernelspec": {
   "display_name": "Python 3",
   "language": "python",
   "name": "python3"
  },
  "language_info": {
   "codemirror_mode": {
    "name": "ipython",
    "version": 3
   },
   "file_extension": ".py",
   "mimetype": "text/x-python",
   "name": "python",
   "nbconvert_exporter": "python",
   "pygments_lexer": "ipython3",
   "version": "3.6.5"
  }
 },
 "nbformat": 4,
 "nbformat_minor": 2
}
